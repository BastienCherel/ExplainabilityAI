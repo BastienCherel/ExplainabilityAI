{
 "cells": [
  {
   "cell_type": "markdown",
   "metadata": {},
   "source": [
    "# Tutorial 3 : First level of explicabity: statistics"
   ]
  },
  {
   "cell_type": "markdown",
   "metadata": {},
   "source": [
    "In this class we will use data from the same dataset we used in the previous TD. We will build upon the work done previously.\n",
    "* We will be using python for the data analysis (R is accepted as well if needed)\n",
    "* The main libraries we are going to use are pandas,SHAP, matplotlib and sklearn\n",
    "* This TD will not be graded.\n",
    "\n",
    "\n",
    "Question 1.\n",
    "Create a new notebook and from TD2 load the variable selection and the different models that you\n",
    "created\n",
    "\n"
   ]
  },
  {
   "cell_type": "markdown",
   "metadata": {},
   "source": [
    "\n",
    "\n",
    "\n",
    "Question 2.\n",
    "Install the shap package (documentation here https://shap.readthedocs.io/en/latest/index.html)\n",
    "\n"
   ]
  },
  {
   "cell_type": "markdown",
   "metadata": {},
   "source": [
    "\n",
    "Question 3.\n",
    "Let’s begin with an enrichment on the random forest interpretation.\n",
    "•Get the variable importance of your features\n",
    "•Recall the explanation you gave on them\n",
    "•using the Treeexplainer function of the shap package, find the shapley values\n",
    "•Visualise a couple of the explanations that are given with shap.forceplot. Can you explain them?\n",
    "•Using the ”summary plot” with the ”plot type” equal to bar feature can you compare the importance\n",
    "that shapley gives to the importance that the native ”variable importance” has given you?\n",
    "•Do you understand the plot if you remove the plot type?\n"
   ]
  },
  {
   "cell_type": "markdown",
   "metadata": {},
   "source": [
    "\n",
    "Question 4.\n",
    "Now lets work on a different model. Let’s train an Xgboost\n",
    "How does Xgboost work ? what is boosting? you can search the internet for these answers\n",
    "•Install the Xgboost library if it’s not already installed\n",
    "•Fit an Xgboost to your data and fine tune it\n",
    "•Is it better than your Random Forest? why?\n"
   ]
  },
  {
   "cell_type": "markdown",
   "metadata": {},
   "source": [
    "\n",
    "Question 5.\n",
    "Let’s compare the feature importance of the Random Forest and the Xgboost\n",
    "•Using shap’s tree explainer get the shapley values for this new model.\n",
    "•Select the variables that are the most important and plot a dependency plot. Does the result confirm\n",
    "your intuition?\n",
    "•Compare the summary plot to the summary plot of the random forest. What are the changes?\n"
   ]
  },
  {
   "cell_type": "markdown",
   "metadata": {},
   "source": [
    "\n",
    "Question 6.\n",
    "We can use shapley values from the Xgboost to learn more about the properties. Let’s cluster the\n",
    "properties based on the shapley values.\n",
    "•Let’s reduce the dimension of our data for visualisation purposes. Do a PCA with the shapley values\n",
    "and visualise the 2 principal axis.\n",
    "•Given the visualisation choose a clustering algorithm (K-Means, DBSCAN, gausian mixture...) and\n",
    "try to cluster the shapley values of the property.\n",
    "•Visualise your results\n",
    "•What characteristics can you give to each cluster?\n",
    "•What conclusion can you reach?"
   ]
  },
  {
   "cell_type": "markdown",
   "metadata": {},
   "source": []
  }
 ],
 "metadata": {
  "language_info": {
   "name": "python"
  }
 },
 "nbformat": 4,
 "nbformat_minor": 2
}
